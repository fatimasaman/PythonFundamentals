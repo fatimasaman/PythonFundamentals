{
 "cells": [
  {
   "cell_type": "markdown",
   "metadata": {},
   "source": [
    "Q1. Given a list of numbers, stop processing input after the cumulative sum of all the input becomes negative\n",
    "Input Format\n",
    "A list of integers to be processed\n",
    "\n",
    "Constraints\n",
    "All numbers input are integers between -1000 and 1000.\n",
    "\n",
    "Output Format\n",
    "Print all the numbers before the cumulative sum become negative.\n",
    "\n",
    "Sample Input\n",
    "\n",
    "1 <br>\n",
    "2 <br>\n",
    "88<br>\n",
    "-100<br>\n",
    "49<br>\n",
    "\n",
    "Sample Output\n",
    "\n",
    "1<br>\n",
    "2<br>\n",
    "88<br>"
   ]
  },
  {
   "cell_type": "code",
   "execution_count": 1,
   "metadata": {},
   "outputs": [
    {
     "name": "stdout",
     "output_type": "stream",
     "text": [
      "1\n",
      "1\n",
      "2\n",
      "2\n",
      "-3\n",
      "-3\n",
      "-5\n"
     ]
    }
   ],
   "source": [
    "sum = 0\n",
    "while (sum>=0):\n",
    "\ti=int(input())\n",
    "\tsum=sum+i\n",
    "\tif (sum<0):\n",
    "\t\tbreak\n",
    "\tprint(i)"
   ]
  },
  {
   "cell_type": "markdown",
   "metadata": {},
   "source": [
    "Q2. Take as input N, a number. Print the pattern as given in output section for corresponding input.\n",
    "\n",
    "Input Format<br>\n",
    "Enter value of N<br>\n",
    "\n",
    "Constraints<br>\n",
    "Output Format<br>\n",
    "All numbers and stars are Space separated\n",
    "\n",
    "Sample Input\n",
    "5\n",
    "\n",
    "Sample Output\n",
    "1 2 3 4 5 <br>\n",
    "1 2 3 4 * <br>\n",
    "1 2 3 * * *<br>\n",
    "1 2 * * * * *<br>\n",
    "1 * * * * * * *<br>\n",
    "Explanation<br>\n",
    "Catch the pattern for the corresponding input and print them accordingly."
   ]
  },
  {
   "cell_type": "code",
   "execution_count": null,
   "metadata": {},
   "outputs": [],
   "source": []
  }
 ],
 "metadata": {
  "kernelspec": {
   "display_name": "Python 3",
   "language": "python",
   "name": "python3"
  },
  "language_info": {
   "codemirror_mode": {
    "name": "ipython",
    "version": 3
   },
   "file_extension": ".py",
   "mimetype": "text/x-python",
   "name": "python",
   "nbconvert_exporter": "python",
   "pygments_lexer": "ipython3",
   "version": "3.8.5"
  }
 },
 "nbformat": 4,
 "nbformat_minor": 4
}
